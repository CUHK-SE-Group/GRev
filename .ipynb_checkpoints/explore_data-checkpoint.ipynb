{
 "cells": [
  {
   "cell_type": "code",
   "execution_count": 1,
   "id": "17e804a8",
   "metadata": {},
   "outputs": [
    {
     "data": {
      "text/plain": [
       "'/home/nn/pattern-transformer'"
      ]
     },
     "execution_count": 1,
     "metadata": {},
     "output_type": "execute_result"
    }
   ],
   "source": [
    "import pandas as pd\n",
    "import os\n",
    "import random\n",
    "\n",
    "os.getcwd()"
   ]
  },
  {
   "cell_type": "code",
   "execution_count": 3,
   "id": "5c82ed74",
   "metadata": {},
   "outputs": [],
   "source": [
    "dfs = []\n",
    "for root,dirs,files in os.walk('./data'):\n",
    "    for i in files:\n",
    "        df = pd.read_csv(os.path.join(root, i))\n",
    "        dfs.append(df)"
   ]
  },
  {
   "cell_type": "code",
   "execution_count": 8,
   "id": "c55aa56c",
   "metadata": {},
   "outputs": [
    {
     "name": "stdout",
     "output_type": "stream",
     "text": [
      "13559\n"
     ]
    }
   ],
   "source": [
    "print(len(dfs))"
   ]
  },
  {
   "cell_type": "code",
   "execution_count": 12,
   "id": "e52a7bf3",
   "metadata": {},
   "outputs": [
    {
     "data": {
      "text/html": [
       "<div>\n",
       "<style scoped>\n",
       "    .dataframe tbody tr th:only-of-type {\n",
       "        vertical-align: middle;\n",
       "    }\n",
       "\n",
       "    .dataframe tbody tr th {\n",
       "        vertical-align: top;\n",
       "    }\n",
       "\n",
       "    .dataframe thead th {\n",
       "        text-align: right;\n",
       "    }\n",
       "</style>\n",
       "<table border=\"1\" class=\"dataframe\">\n",
       "  <thead>\n",
       "    <tr style=\"text-align: right;\">\n",
       "      <th></th>\n",
       "      <th>[False]</th>\n",
       "      <th>[True]</th>\n",
       "      <th>[None]</th>\n",
       "    </tr>\n",
       "  </thead>\n",
       "  <tbody>\n",
       "    <tr>\n",
       "      <th>0</th>\n",
       "      <td>3142</td>\n",
       "      <td>6264</td>\n",
       "      <td>594.0</td>\n",
       "    </tr>\n",
       "    <tr>\n",
       "      <th>1</th>\n",
       "      <td>3456</td>\n",
       "      <td>6544</td>\n",
       "      <td>NaN</td>\n",
       "    </tr>\n",
       "  </tbody>\n",
       "</table>\n",
       "</div>"
      ],
      "text/plain": [
       "   [False]  [True]  [None]\n",
       "0     3142    6264   594.0\n",
       "1     3456    6544     NaN"
      ]
     },
     "execution_count": 12,
     "metadata": {},
     "output_type": "execute_result"
    }
   ],
   "source": [
    "dfs[5]"
   ]
  },
  {
   "cell_type": "code",
   "execution_count": 19,
   "id": "f1f88e11",
   "metadata": {},
   "outputs": [],
   "source": [
    "# 先按数量是否相等来划分\n",
    "sum_eqs = []\n",
    "sum_neqs = []\n",
    "for df in dfs[5:]:\n",
    "    sum_row = df.sum(axis=1)\n",
    "    if sum_row[0] != sum_row[1]:\n",
    "        sum_neqs.append(df)\n",
    "    else:\n",
    "        sum_eqs.append(df)"
   ]
  },
  {
   "cell_type": "code",
   "execution_count": 26,
   "id": "6ab750f0",
   "metadata": {},
   "outputs": [
    {
     "name": "stdout",
     "output_type": "stream",
     "text": [
      "两个query的结果数量相同的有: 12648\n",
      "两个query的结果数量不相同的有: 906\n"
     ]
    }
   ],
   "source": [
    "print(\"两个query的结果数量相同的有:\", len(sum_eqs))\n",
    "print(\"两个query的结果数量不相同的有:\", len(sum_neqs))"
   ]
  },
  {
   "cell_type": "code",
   "execution_count": 32,
   "id": "b4b8a0ab",
   "metadata": {},
   "outputs": [
    {
     "data": {
      "text/html": [
       "<div>\n",
       "<style scoped>\n",
       "    .dataframe tbody tr th:only-of-type {\n",
       "        vertical-align: middle;\n",
       "    }\n",
       "\n",
       "    .dataframe tbody tr th {\n",
       "        vertical-align: top;\n",
       "    }\n",
       "\n",
       "    .dataframe thead th {\n",
       "        text-align: right;\n",
       "    }\n",
       "</style>\n",
       "<table border=\"1\" class=\"dataframe\">\n",
       "  <thead>\n",
       "    <tr style=\"text-align: right;\">\n",
       "      <th></th>\n",
       "      <th>[False, False, 'TGOZy48', True]</th>\n",
       "      <th>[False, False, None, 'TGOZy48']</th>\n",
       "    </tr>\n",
       "  </thead>\n",
       "  <tbody>\n",
       "    <tr>\n",
       "      <th>0</th>\n",
       "      <td>37.0</td>\n",
       "      <td>NaN</td>\n",
       "    </tr>\n",
       "    <tr>\n",
       "      <th>1</th>\n",
       "      <td>NaN</td>\n",
       "      <td>37.0</td>\n",
       "    </tr>\n",
       "  </tbody>\n",
       "</table>\n",
       "</div>"
      ],
      "text/plain": [
       "   [False, False, 'TGOZy48', True]  [False, False, None, 'TGOZy48']\n",
       "0                             37.0                              NaN\n",
       "1                              NaN                             37.0"
      ]
     },
     "execution_count": 32,
     "metadata": {},
     "output_type": "execute_result"
    }
   ],
   "source": [
    "random.choice(sum_eqs)"
   ]
  },
  {
   "cell_type": "code",
   "execution_count": 31,
   "id": "67e0b5ba",
   "metadata": {},
   "outputs": [
    {
     "data": {
      "text/html": [
       "<div>\n",
       "<style scoped>\n",
       "    .dataframe tbody tr th:only-of-type {\n",
       "        vertical-align: middle;\n",
       "    }\n",
       "\n",
       "    .dataframe tbody tr th {\n",
       "        vertical-align: top;\n",
       "    }\n",
       "\n",
       "    .dataframe thead th {\n",
       "        text-align: right;\n",
       "    }\n",
       "</style>\n",
       "<table border=\"1\" class=\"dataframe\">\n",
       "  <thead>\n",
       "    <tr style=\"text-align: right;\">\n",
       "      <th></th>\n",
       "      <th>['uZ', 'uZ']</th>\n",
       "    </tr>\n",
       "  </thead>\n",
       "  <tbody>\n",
       "    <tr>\n",
       "      <th>0</th>\n",
       "      <td>3070</td>\n",
       "    </tr>\n",
       "    <tr>\n",
       "      <th>1</th>\n",
       "      <td>2816</td>\n",
       "    </tr>\n",
       "  </tbody>\n",
       "</table>\n",
       "</div>"
      ],
      "text/plain": [
       "   ['uZ', 'uZ']\n",
       "0          3070\n",
       "1          2816"
      ]
     },
     "execution_count": 31,
     "metadata": {},
     "output_type": "execute_result"
    }
   ],
   "source": [
    "random.choice(sum_neqs)"
   ]
  },
  {
   "cell_type": "code",
   "execution_count": 40,
   "id": "fc0e8b06",
   "metadata": {},
   "outputs": [],
   "source": [
    "def hasNa(dfs):\n",
    "    sum_eqs_hasna = []\n",
    "    sum_eqs_nona = []\n",
    "\n",
    "    for df in dfs:\n",
    "        if df.isna().any().any():\n",
    "            sum_eqs_hasna.append(df)\n",
    "        else:\n",
    "            sum_eqs_nona.append(df)\n",
    "    return sum_eqs_hasna, sum_eqs_nona\n"
   ]
  },
  {
   "cell_type": "code",
   "execution_count": 41,
   "id": "b7b0dea0",
   "metadata": {},
   "outputs": [],
   "source": [
    "sum_eqs_hasna, sum_eqs_nona  = hasNa(sum_eqs)\n",
    "sum_neqs_hasna, sum_neqs_nona  = hasNa(sum_neqs)"
   ]
  },
  {
   "cell_type": "code",
   "execution_count": 47,
   "id": "d8e584f8",
   "metadata": {},
   "outputs": [
    {
     "data": {
      "text/html": [
       "<div>\n",
       "<style scoped>\n",
       "    .dataframe tbody tr th:only-of-type {\n",
       "        vertical-align: middle;\n",
       "    }\n",
       "\n",
       "    .dataframe tbody tr th {\n",
       "        vertical-align: top;\n",
       "    }\n",
       "\n",
       "    .dataframe thead th {\n",
       "        text-align: right;\n",
       "    }\n",
       "</style>\n",
       "<table border=\"1\" class=\"dataframe\">\n",
       "  <thead>\n",
       "    <tr style=\"text-align: right;\">\n",
       "      <th></th>\n",
       "      <th>['M1u', True]</th>\n",
       "      <th>['T', True]</th>\n",
       "      <th>[None, True]</th>\n",
       "      <th>[True, 's']</th>\n",
       "      <th>[False, 'M1u']</th>\n",
       "      <th>[False, 'T']</th>\n",
       "      <th>[False, None]</th>\n",
       "      <th>[False, 's']</th>\n",
       "      <th>['M1u', None]</th>\n",
       "      <th>[None, 'T']</th>\n",
       "      <th>[None, None]</th>\n",
       "      <th>[None, 's']</th>\n",
       "    </tr>\n",
       "  </thead>\n",
       "  <tbody>\n",
       "    <tr>\n",
       "      <th>0</th>\n",
       "      <td>1089</td>\n",
       "      <td>1089</td>\n",
       "      <td>1089</td>\n",
       "      <td>1089</td>\n",
       "      <td>1485</td>\n",
       "      <td>1387</td>\n",
       "      <td>1386</td>\n",
       "      <td>1386</td>\n",
       "      <td>NaN</td>\n",
       "      <td>NaN</td>\n",
       "      <td>NaN</td>\n",
       "      <td>NaN</td>\n",
       "    </tr>\n",
       "    <tr>\n",
       "      <th>1</th>\n",
       "      <td>1051</td>\n",
       "      <td>1026</td>\n",
       "      <td>1026</td>\n",
       "      <td>1026</td>\n",
       "      <td>1389</td>\n",
       "      <td>1350</td>\n",
       "      <td>1350</td>\n",
       "      <td>1350</td>\n",
       "      <td>108.0</td>\n",
       "      <td>108.0</td>\n",
       "      <td>108.0</td>\n",
       "      <td>108.0</td>\n",
       "    </tr>\n",
       "  </tbody>\n",
       "</table>\n",
       "</div>"
      ],
      "text/plain": [
       "   ['M1u', True]  ['T', True]  [None, True]  [True, 's']  [False, 'M1u']  \\\n",
       "0           1089         1089          1089         1089            1485   \n",
       "1           1051         1026          1026         1026            1389   \n",
       "\n",
       "   [False, 'T']  [False, None]  [False, 's']  ['M1u', None]  [None, 'T']  \\\n",
       "0          1387           1386          1386            NaN          NaN   \n",
       "1          1350           1350          1350          108.0        108.0   \n",
       "\n",
       "   [None, None]  [None, 's']  \n",
       "0           NaN          NaN  \n",
       "1         108.0        108.0  "
      ]
     },
     "execution_count": 47,
     "metadata": {},
     "output_type": "execute_result"
    }
   ],
   "source": [
    "random.choice(sum_eqs_hasna)"
   ]
  },
  {
   "cell_type": "code",
   "execution_count": 43,
   "id": "5b80a461",
   "metadata": {},
   "outputs": [
    {
     "data": {
      "text/html": [
       "<div>\n",
       "<style scoped>\n",
       "    .dataframe tbody tr th:only-of-type {\n",
       "        vertical-align: middle;\n",
       "    }\n",
       "\n",
       "    .dataframe tbody tr th {\n",
       "        vertical-align: top;\n",
       "    }\n",
       "\n",
       "    .dataframe thead th {\n",
       "        text-align: right;\n",
       "    }\n",
       "</style>\n",
       "<table border=\"1\" class=\"dataframe\">\n",
       "  <thead>\n",
       "    <tr style=\"text-align: right;\">\n",
       "      <th></th>\n",
       "      <th>[-961038438, False, 'U1tvHZkW', 'ni']</th>\n",
       "      <th>[-961038438, False, 'U1tvHZkW', 'x0r2I']</th>\n",
       "      <th>[-961038438, False, None, 'U1tvHZkW']</th>\n",
       "      <th>[-961038438, '7', False, 'U1tvHZkW']</th>\n",
       "    </tr>\n",
       "  </thead>\n",
       "  <tbody>\n",
       "    <tr>\n",
       "      <th>0</th>\n",
       "      <td>2016</td>\n",
       "      <td>2016</td>\n",
       "      <td>1984</td>\n",
       "      <td>1984</td>\n",
       "    </tr>\n",
       "    <tr>\n",
       "      <th>1</th>\n",
       "      <td>2000</td>\n",
       "      <td>2000</td>\n",
       "      <td>2000</td>\n",
       "      <td>2000</td>\n",
       "    </tr>\n",
       "  </tbody>\n",
       "</table>\n",
       "</div>"
      ],
      "text/plain": [
       "   [-961038438, False, 'U1tvHZkW', 'ni']  \\\n",
       "0                                   2016   \n",
       "1                                   2000   \n",
       "\n",
       "   [-961038438, False, 'U1tvHZkW', 'x0r2I']  \\\n",
       "0                                      2016   \n",
       "1                                      2000   \n",
       "\n",
       "   [-961038438, False, None, 'U1tvHZkW']  [-961038438, '7', False, 'U1tvHZkW']  \n",
       "0                                   1984                                  1984  \n",
       "1                                   2000                                  2000  "
      ]
     },
     "execution_count": 43,
     "metadata": {},
     "output_type": "execute_result"
    }
   ],
   "source": [
    "random.choice(sum_eqs_nona)"
   ]
  },
  {
   "cell_type": "code",
   "execution_count": 44,
   "id": "9e7dfc75",
   "metadata": {},
   "outputs": [
    {
     "data": {
      "text/html": [
       "<div>\n",
       "<style scoped>\n",
       "    .dataframe tbody tr th:only-of-type {\n",
       "        vertical-align: middle;\n",
       "    }\n",
       "\n",
       "    .dataframe tbody tr th {\n",
       "        vertical-align: top;\n",
       "    }\n",
       "\n",
       "    .dataframe thead th {\n",
       "        text-align: right;\n",
       "    }\n",
       "</style>\n",
       "<table border=\"1\" class=\"dataframe\">\n",
       "  <thead>\n",
       "    <tr style=\"text-align: right;\">\n",
       "      <th></th>\n",
       "      <th>[False]</th>\n",
       "    </tr>\n",
       "  </thead>\n",
       "  <tbody>\n",
       "    <tr>\n",
       "      <th>0</th>\n",
       "      <td>240.0</td>\n",
       "    </tr>\n",
       "    <tr>\n",
       "      <th>1</th>\n",
       "      <td>NaN</td>\n",
       "    </tr>\n",
       "  </tbody>\n",
       "</table>\n",
       "</div>"
      ],
      "text/plain": [
       "   [False]\n",
       "0    240.0\n",
       "1      NaN"
      ]
     },
     "execution_count": 44,
     "metadata": {},
     "output_type": "execute_result"
    }
   ],
   "source": [
    "random.choice(sum_neqs_hasna)"
   ]
  },
  {
   "cell_type": "code",
   "execution_count": 45,
   "id": "2eb39f99",
   "metadata": {},
   "outputs": [
    {
     "data": {
      "text/html": [
       "<div>\n",
       "<style scoped>\n",
       "    .dataframe tbody tr th:only-of-type {\n",
       "        vertical-align: middle;\n",
       "    }\n",
       "\n",
       "    .dataframe tbody tr th {\n",
       "        vertical-align: top;\n",
       "    }\n",
       "\n",
       "    .dataframe thead th {\n",
       "        text-align: right;\n",
       "    }\n",
       "</style>\n",
       "<table border=\"1\" class=\"dataframe\">\n",
       "  <thead>\n",
       "    <tr style=\"text-align: right;\">\n",
       "      <th></th>\n",
       "      <th>['6']</th>\n",
       "    </tr>\n",
       "  </thead>\n",
       "  <tbody>\n",
       "    <tr>\n",
       "      <th>0</th>\n",
       "      <td>3</td>\n",
       "    </tr>\n",
       "    <tr>\n",
       "      <th>1</th>\n",
       "      <td>6</td>\n",
       "    </tr>\n",
       "  </tbody>\n",
       "</table>\n",
       "</div>"
      ],
      "text/plain": [
       "   ['6']\n",
       "0      3\n",
       "1      6"
      ]
     },
     "execution_count": 45,
     "metadata": {},
     "output_type": "execute_result"
    }
   ],
   "source": [
    "random.choice(sum_neqs_nona)"
   ]
  },
  {
   "cell_type": "code",
   "execution_count": null,
   "id": "698d059a",
   "metadata": {},
   "outputs": [],
   "source": []
  }
 ],
 "metadata": {
  "kernelspec": {
   "display_name": "Python 3 (ipykernel)",
   "language": "python",
   "name": "python3"
  },
  "language_info": {
   "codemirror_mode": {
    "name": "ipython",
    "version": 3
   },
   "file_extension": ".py",
   "mimetype": "text/x-python",
   "name": "python",
   "nbconvert_exporter": "python",
   "pygments_lexer": "ipython3",
   "version": "3.9.13"
  }
 },
 "nbformat": 4,
 "nbformat_minor": 5
}
