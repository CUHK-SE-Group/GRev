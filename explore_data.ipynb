{
 "cells": [
  {
   "cell_type": "code",
   "execution_count": 2,
   "id": "17e804a8",
   "metadata": {},
   "outputs": [
    {
     "data": {
      "text/plain": [
       "'/home/nn/pattern-transformer'"
      ]
     },
     "execution_count": 2,
     "metadata": {},
     "output_type": "execute_result"
    }
   ],
   "source": [
    "import pandas as pd\n",
    "import os\n",
    "import random\n",
    "\n",
    "os.getcwd()"
   ]
  },
  {
   "cell_type": "code",
   "execution_count": 3,
   "id": "5c82ed74",
   "metadata": {},
   "outputs": [],
   "source": [
    "dfs = []\n",
    "for root,dirs,files in os.walk('./data'):\n",
    "    for i in files:\n",
    "        df = pd.read_csv(os.path.join(root, i))\n",
    "        dfs.append(df)"
   ]
  },
  {
   "cell_type": "code",
   "execution_count": 4,
   "id": "c55aa56c",
   "metadata": {},
   "outputs": [
    {
     "name": "stdout",
     "output_type": "stream",
     "text": [
      "目前出现logic inconsistency的query有 13559\n"
     ]
    }
   ],
   "source": [
    "print('目前出现logic inconsistency的query有', len(dfs))"
   ]
  },
  {
   "cell_type": "code",
   "execution_count": 7,
   "id": "e52a7bf3",
   "metadata": {},
   "outputs": [
    {
     "name": "stdout",
     "output_type": "stream",
     "text": [
      "随便取一个查看\n"
     ]
    },
    {
     "data": {
      "text/html": [
       "<div>\n",
       "<style scoped>\n",
       "    .dataframe tbody tr th:only-of-type {\n",
       "        vertical-align: middle;\n",
       "    }\n",
       "\n",
       "    .dataframe tbody tr th {\n",
       "        vertical-align: top;\n",
       "    }\n",
       "\n",
       "    .dataframe thead th {\n",
       "        text-align: right;\n",
       "    }\n",
       "</style>\n",
       "<table border=\"1\" class=\"dataframe\">\n",
       "  <thead>\n",
       "    <tr style=\"text-align: right;\">\n",
       "      <th></th>\n",
       "      <th>['A', 'TPo']</th>\n",
       "      <th>['1', 'A']</th>\n",
       "    </tr>\n",
       "  </thead>\n",
       "  <tbody>\n",
       "    <tr>\n",
       "      <th>0</th>\n",
       "      <td>1.0</td>\n",
       "      <td>NaN</td>\n",
       "    </tr>\n",
       "    <tr>\n",
       "      <th>1</th>\n",
       "      <td>NaN</td>\n",
       "      <td>1.0</td>\n",
       "    </tr>\n",
       "  </tbody>\n",
       "</table>\n",
       "</div>"
      ],
      "text/plain": [
       "   ['A', 'TPo']  ['1', 'A']\n",
       "0           1.0         NaN\n",
       "1           NaN         1.0"
      ]
     },
     "execution_count": 7,
     "metadata": {},
     "output_type": "execute_result"
    }
   ],
   "source": [
    "print('随便取一个查看')\n",
    "random.choice(dfs)"
   ]
  },
  {
   "cell_type": "markdown",
   "id": "52f14982",
   "metadata": {},
   "source": [
    "现在想要大致对这些执行结果分个类，数据特征类似的大概率是同一种bug"
   ]
  },
  {
   "cell_type": "code",
   "execution_count": 8,
   "id": "f1f88e11",
   "metadata": {},
   "outputs": [],
   "source": [
    "# 先按数量是否相等来划分这类\n",
    "sum_eqs = []\n",
    "sum_neqs = []\n",
    "for df in dfs[5:]:\n",
    "    sum_row = df.sum(axis=1)\n",
    "    if sum_row[0] != sum_row[1]:\n",
    "        sum_neqs.append(df)\n",
    "    else:\n",
    "        sum_eqs.append(df)"
   ]
  },
  {
   "cell_type": "code",
   "execution_count": 9,
   "id": "6ab750f0",
   "metadata": {},
   "outputs": [
    {
     "name": "stdout",
     "output_type": "stream",
     "text": [
      "两个query的结果数量相同的有: 12648\n",
      "两个query的结果数量不相同的有: 906\n"
     ]
    }
   ],
   "source": [
    "print(\"两个query的结果数量相同的有:\", len(sum_eqs))\n",
    "print(\"两个query的结果数量不相同的有:\", len(sum_neqs))"
   ]
  },
  {
   "cell_type": "code",
   "execution_count": 10,
   "id": "b4b8a0ab",
   "metadata": {},
   "outputs": [
    {
     "data": {
      "text/html": [
       "<div>\n",
       "<style scoped>\n",
       "    .dataframe tbody tr th:only-of-type {\n",
       "        vertical-align: middle;\n",
       "    }\n",
       "\n",
       "    .dataframe tbody tr th {\n",
       "        vertical-align: top;\n",
       "    }\n",
       "\n",
       "    .dataframe thead th {\n",
       "        text-align: right;\n",
       "    }\n",
       "</style>\n",
       "<table border=\"1\" class=\"dataframe\">\n",
       "  <thead>\n",
       "    <tr style=\"text-align: right;\">\n",
       "      <th></th>\n",
       "      <th>[-21931217, -940276028, 'egAtcmP']</th>\n",
       "      <th>[-21931217, 1398361557, 'egAtcmP']</th>\n",
       "    </tr>\n",
       "  </thead>\n",
       "  <tbody>\n",
       "    <tr>\n",
       "      <th>0</th>\n",
       "      <td>5022</td>\n",
       "      <td>4978</td>\n",
       "    </tr>\n",
       "    <tr>\n",
       "      <th>1</th>\n",
       "      <td>5004</td>\n",
       "      <td>4996</td>\n",
       "    </tr>\n",
       "  </tbody>\n",
       "</table>\n",
       "</div>"
      ],
      "text/plain": [
       "   [-21931217, -940276028, 'egAtcmP']  [-21931217, 1398361557, 'egAtcmP']\n",
       "0                                5022                                4978\n",
       "1                                5004                                4996"
      ]
     },
     "execution_count": 10,
     "metadata": {},
     "output_type": "execute_result"
    }
   ],
   "source": [
    "random.choice(sum_eqs)"
   ]
  },
  {
   "cell_type": "code",
   "execution_count": 11,
   "id": "67e0b5ba",
   "metadata": {},
   "outputs": [
    {
     "data": {
      "text/html": [
       "<div>\n",
       "<style scoped>\n",
       "    .dataframe tbody tr th:only-of-type {\n",
       "        vertical-align: middle;\n",
       "    }\n",
       "\n",
       "    .dataframe tbody tr th {\n",
       "        vertical-align: top;\n",
       "    }\n",
       "\n",
       "    .dataframe thead th {\n",
       "        text-align: right;\n",
       "    }\n",
       "</style>\n",
       "<table border=\"1\" class=\"dataframe\">\n",
       "  <thead>\n",
       "    <tr style=\"text-align: right;\">\n",
       "      <th></th>\n",
       "      <th>[2036216611, '5vxfC9r', None, 'T']</th>\n",
       "      <th>[-1442164853, '5vxfC9r', None, 'T']</th>\n",
       "      <th>['5vxfC9r', 727428285, None, 'T']</th>\n",
       "      <th>[208116405, '5vxfC9r', None, 'T']</th>\n",
       "      <th>['5vxfC9r', 817958452, None, 'T']</th>\n",
       "      <th>[1307760644, '5vxfC9r', None, 'T']</th>\n",
       "      <th>[574705761, '5vxfC9r', None, 'T']</th>\n",
       "      <th>['5vxfC9r', 946496522, None, 'T']</th>\n",
       "    </tr>\n",
       "  </thead>\n",
       "  <tbody>\n",
       "    <tr>\n",
       "      <th>0</th>\n",
       "      <td>1.0</td>\n",
       "      <td>1.0</td>\n",
       "      <td>1.0</td>\n",
       "      <td>1.0</td>\n",
       "      <td>1.0</td>\n",
       "      <td>1.0</td>\n",
       "      <td>1.0</td>\n",
       "      <td>1.0</td>\n",
       "    </tr>\n",
       "    <tr>\n",
       "      <th>1</th>\n",
       "      <td>NaN</td>\n",
       "      <td>NaN</td>\n",
       "      <td>NaN</td>\n",
       "      <td>NaN</td>\n",
       "      <td>NaN</td>\n",
       "      <td>NaN</td>\n",
       "      <td>NaN</td>\n",
       "      <td>NaN</td>\n",
       "    </tr>\n",
       "  </tbody>\n",
       "</table>\n",
       "</div>"
      ],
      "text/plain": [
       "   [2036216611, '5vxfC9r', None, 'T']  [-1442164853, '5vxfC9r', None, 'T']  \\\n",
       "0                                 1.0                                  1.0   \n",
       "1                                 NaN                                  NaN   \n",
       "\n",
       "   ['5vxfC9r', 727428285, None, 'T']  [208116405, '5vxfC9r', None, 'T']  \\\n",
       "0                                1.0                                1.0   \n",
       "1                                NaN                                NaN   \n",
       "\n",
       "   ['5vxfC9r', 817958452, None, 'T']  [1307760644, '5vxfC9r', None, 'T']  \\\n",
       "0                                1.0                                 1.0   \n",
       "1                                NaN                                 NaN   \n",
       "\n",
       "   [574705761, '5vxfC9r', None, 'T']  ['5vxfC9r', 946496522, None, 'T']  \n",
       "0                                1.0                                1.0  \n",
       "1                                NaN                                NaN  "
      ]
     },
     "execution_count": 11,
     "metadata": {},
     "output_type": "execute_result"
    }
   ],
   "source": [
    "random.choice(sum_neqs)"
   ]
  },
  {
   "cell_type": "code",
   "execution_count": 12,
   "id": "fc0e8b06",
   "metadata": {},
   "outputs": [],
   "source": [
    "# 再通过执行结果是否有缺失值来划分。有缺失值意味着两个query里的response key不一致，没有则意味着key是一致的，只是数量不一致\n",
    "def hasNa(dfs):\n",
    "    sum_eqs_hasna = []\n",
    "    sum_eqs_nona = []\n",
    "\n",
    "    for df in dfs:\n",
    "        if df.isna().any().any():\n",
    "            sum_eqs_hasna.append(df)\n",
    "        else:\n",
    "            sum_eqs_nona.append(df)\n",
    "    return sum_eqs_hasna, sum_eqs_nona\n"
   ]
  },
  {
   "cell_type": "code",
   "execution_count": 13,
   "id": "b7b0dea0",
   "metadata": {},
   "outputs": [],
   "source": [
    "sum_eqs_hasna, sum_eqs_nona  = hasNa(sum_eqs)\n",
    "sum_neqs_hasna, sum_neqs_nona  = hasNa(sum_neqs)"
   ]
  },
  {
   "cell_type": "code",
   "execution_count": 14,
   "id": "d8e584f8",
   "metadata": {},
   "outputs": [
    {
     "data": {
      "text/html": [
       "<div>\n",
       "<style scoped>\n",
       "    .dataframe tbody tr th:only-of-type {\n",
       "        vertical-align: middle;\n",
       "    }\n",
       "\n",
       "    .dataframe tbody tr th {\n",
       "        vertical-align: top;\n",
       "    }\n",
       "\n",
       "    .dataframe thead th {\n",
       "        text-align: right;\n",
       "    }\n",
       "</style>\n",
       "<table border=\"1\" class=\"dataframe\">\n",
       "  <thead>\n",
       "    <tr style=\"text-align: right;\">\n",
       "      <th></th>\n",
       "      <th>['M', True, True]</th>\n",
       "      <th>[True, True, 'z']</th>\n",
       "    </tr>\n",
       "  </thead>\n",
       "  <tbody>\n",
       "    <tr>\n",
       "      <th>0</th>\n",
       "      <td>2.0</td>\n",
       "      <td>NaN</td>\n",
       "    </tr>\n",
       "    <tr>\n",
       "      <th>1</th>\n",
       "      <td>NaN</td>\n",
       "      <td>2.0</td>\n",
       "    </tr>\n",
       "  </tbody>\n",
       "</table>\n",
       "</div>"
      ],
      "text/plain": [
       "   ['M', True, True]  [True, True, 'z']\n",
       "0                2.0                NaN\n",
       "1                NaN                2.0"
      ]
     },
     "execution_count": 14,
     "metadata": {},
     "output_type": "execute_result"
    }
   ],
   "source": [
    "random.choice(sum_eqs_hasna)"
   ]
  },
  {
   "cell_type": "code",
   "execution_count": 15,
   "id": "5b80a461",
   "metadata": {},
   "outputs": [
    {
     "data": {
      "text/html": [
       "<div>\n",
       "<style scoped>\n",
       "    .dataframe tbody tr th:only-of-type {\n",
       "        vertical-align: middle;\n",
       "    }\n",
       "\n",
       "    .dataframe tbody tr th {\n",
       "        vertical-align: top;\n",
       "    }\n",
       "\n",
       "    .dataframe thead th {\n",
       "        text-align: right;\n",
       "    }\n",
       "</style>\n",
       "<table border=\"1\" class=\"dataframe\">\n",
       "  <thead>\n",
       "    <tr style=\"text-align: right;\">\n",
       "      <th></th>\n",
       "      <th>[-1416545915, '8M902v']</th>\n",
       "      <th>[-1267638192, '8M902v']</th>\n",
       "      <th>[-532357484, '8M902v']</th>\n",
       "      <th>[-605306270, '8M902v']</th>\n",
       "      <th>[-941744231, '8M902v']</th>\n",
       "      <th>[1694616852, '8M902v']</th>\n",
       "      <th>[-127977559, '8M902v']</th>\n",
       "      <th>['8M902v', None]</th>\n",
       "    </tr>\n",
       "  </thead>\n",
       "  <tbody>\n",
       "    <tr>\n",
       "      <th>0</th>\n",
       "      <td>199</td>\n",
       "      <td>91</td>\n",
       "      <td>115</td>\n",
       "      <td>115</td>\n",
       "      <td>46</td>\n",
       "      <td>66</td>\n",
       "      <td>44</td>\n",
       "      <td>66</td>\n",
       "    </tr>\n",
       "    <tr>\n",
       "      <th>1</th>\n",
       "      <td>203</td>\n",
       "      <td>90</td>\n",
       "      <td>112</td>\n",
       "      <td>112</td>\n",
       "      <td>45</td>\n",
       "      <td>67</td>\n",
       "      <td>45</td>\n",
       "      <td>68</td>\n",
       "    </tr>\n",
       "  </tbody>\n",
       "</table>\n",
       "</div>"
      ],
      "text/plain": [
       "   [-1416545915, '8M902v']  [-1267638192, '8M902v']  [-532357484, '8M902v']  \\\n",
       "0                      199                       91                     115   \n",
       "1                      203                       90                     112   \n",
       "\n",
       "   [-605306270, '8M902v']  [-941744231, '8M902v']  [1694616852, '8M902v']  \\\n",
       "0                     115                      46                      66   \n",
       "1                     112                      45                      67   \n",
       "\n",
       "   [-127977559, '8M902v']  ['8M902v', None]  \n",
       "0                      44                66  \n",
       "1                      45                68  "
      ]
     },
     "execution_count": 15,
     "metadata": {},
     "output_type": "execute_result"
    }
   ],
   "source": [
    "random.choice(sum_eqs_nona)"
   ]
  },
  {
   "cell_type": "code",
   "execution_count": 16,
   "id": "9e7dfc75",
   "metadata": {},
   "outputs": [
    {
     "data": {
      "text/html": [
       "<div>\n",
       "<style scoped>\n",
       "    .dataframe tbody tr th:only-of-type {\n",
       "        vertical-align: middle;\n",
       "    }\n",
       "\n",
       "    .dataframe tbody tr th {\n",
       "        vertical-align: top;\n",
       "    }\n",
       "\n",
       "    .dataframe thead th {\n",
       "        text-align: right;\n",
       "    }\n",
       "</style>\n",
       "<table border=\"1\" class=\"dataframe\">\n",
       "  <thead>\n",
       "    <tr style=\"text-align: right;\">\n",
       "      <th></th>\n",
       "      <th>[-1646819731, -652029211, False]</th>\n",
       "      <th>[-1646819731, 1679683596, False]</th>\n",
       "    </tr>\n",
       "  </thead>\n",
       "  <tbody>\n",
       "    <tr>\n",
       "      <th>0</th>\n",
       "      <td>4.0</td>\n",
       "      <td>NaN</td>\n",
       "    </tr>\n",
       "    <tr>\n",
       "      <th>1</th>\n",
       "      <td>NaN</td>\n",
       "      <td>2.0</td>\n",
       "    </tr>\n",
       "  </tbody>\n",
       "</table>\n",
       "</div>"
      ],
      "text/plain": [
       "   [-1646819731, -652029211, False]  [-1646819731, 1679683596, False]\n",
       "0                               4.0                               NaN\n",
       "1                               NaN                               2.0"
      ]
     },
     "execution_count": 16,
     "metadata": {},
     "output_type": "execute_result"
    }
   ],
   "source": [
    "random.choice(sum_neqs_hasna)"
   ]
  },
  {
   "cell_type": "code",
   "execution_count": 17,
   "id": "2eb39f99",
   "metadata": {},
   "outputs": [
    {
     "data": {
      "text/html": [
       "<div>\n",
       "<style scoped>\n",
       "    .dataframe tbody tr th:only-of-type {\n",
       "        vertical-align: middle;\n",
       "    }\n",
       "\n",
       "    .dataframe tbody tr th {\n",
       "        vertical-align: top;\n",
       "    }\n",
       "\n",
       "    .dataframe thead th {\n",
       "        text-align: right;\n",
       "    }\n",
       "</style>\n",
       "<table border=\"1\" class=\"dataframe\">\n",
       "  <thead>\n",
       "    <tr style=\"text-align: right;\">\n",
       "      <th></th>\n",
       "      <th>[None, True]</th>\n",
       "    </tr>\n",
       "  </thead>\n",
       "  <tbody>\n",
       "    <tr>\n",
       "      <th>0</th>\n",
       "      <td>12</td>\n",
       "    </tr>\n",
       "    <tr>\n",
       "      <th>1</th>\n",
       "      <td>6</td>\n",
       "    </tr>\n",
       "  </tbody>\n",
       "</table>\n",
       "</div>"
      ],
      "text/plain": [
       "   [None, True]\n",
       "0            12\n",
       "1             6"
      ]
     },
     "execution_count": 17,
     "metadata": {},
     "output_type": "execute_result"
    }
   ],
   "source": [
    "random.choice(sum_neqs_nona)"
   ]
  },
  {
   "cell_type": "code",
   "execution_count": 18,
   "id": "698d059a",
   "metadata": {},
   "outputs": [
    {
     "name": "stdout",
     "output_type": "stream",
     "text": [
      "9532\n",
      "3116\n",
      "590\n",
      "316\n"
     ]
    }
   ],
   "source": [
    "print(len(sum_eqs_hasna))\n",
    "print(len(sum_eqs_nona))\n",
    "print(len(sum_neqs_hasna))\n",
    "print(len(sum_neqs_nona))"
   ]
  },
  {
   "cell_type": "markdown",
   "id": "123d2024",
   "metadata": {},
   "source": [
    "从这个结果来看，数量相等，且有na值的占大头，其余的较少。后续要做的是手动reduce一些bug出来，看看这个划分对于bug的查找有没有帮助。如果正好对应的话，这划分出来的4种可能能对应4种bug。\n",
    "\n",
    "如果结果对不上，就看看有没有其他的划分数据的办法，将bug聚类一下"
   ]
  },
  {
   "cell_type": "code",
   "execution_count": null,
   "id": "d9c7db21",
   "metadata": {},
   "outputs": [],
   "source": []
  }
 ],
 "metadata": {
  "kernelspec": {
   "display_name": "Python 3 (ipykernel)",
   "language": "python",
   "name": "python3"
  },
  "language_info": {
   "codemirror_mode": {
    "name": "ipython",
    "version": 3
   },
   "file_extension": ".py",
   "mimetype": "text/x-python",
   "name": "python",
   "nbconvert_exporter": "python",
   "pygments_lexer": "ipython3",
   "version": "3.9.13"
  }
 },
 "nbformat": 4,
 "nbformat_minor": 5
}
